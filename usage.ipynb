{
 "cells": [
  {
   "cell_type": "code",
   "execution_count": 3,
   "metadata": {},
   "outputs": [
    {
     "name": "stderr",
     "output_type": "stream",
     "text": [
      "c:\\Users\\p70089067\\AppData\\Local\\miniconda3\\envs\\lumiere_torch_env\\Lib\\site-packages\\tqdm\\auto.py:21: TqdmWarning: IProgress not found. Please update jupyter and ipywidgets. See https://ipywidgets.readthedocs.io/en/stable/user_install.html\n",
      "  from .autonotebook import tqdm as notebook_tqdm\n"
     ]
    }
   ],
   "source": [
    "import torch\n",
    "from lumiere_pytorch import MPLumiere\n",
    "\n",
    "from denoising_diffusion_pytorch import KarrasUnet\n",
    "\n",
    "karras_unet = KarrasUnet(\n",
    "    image_size = 256,\n",
    "    dim = 8,\n",
    "    channels = 3,\n",
    "    dim_max = 768\n",
    ")\n",
    "\n",
    "lumiere = MPLumiere(\n",
    "    karras_unet,\n",
    "    image_size = 256,\n",
    "    unet_time_kwarg = 'time',\n",
    "    conv_module_names = [\n",
    "        'downs.1',\n",
    "        'ups.1'\n",
    "    ],\n",
    "    attn_module_names = [\n",
    "        'mids.0'\n",
    "    ],\n",
    "    upsample_module_names = [\n",
    "        'ups.1'\n",
    "    ],\n",
    "    downsample_module_names = [\n",
    "        'downs.1'\n",
    "    ]\n",
    ")\n",
    "\n",
    "noised_video = torch.randn(2, 3, 8, 256, 256)\n",
    "time = torch.ones(2,)\n",
    "\n",
    "denoised_video = lumiere(noised_video, time = time)\n",
    "\n",
    "assert noised_video.shape == denoised_video.shape"
   ]
  },
  {
   "cell_type": "code",
   "execution_count": 5,
   "metadata": {},
   "outputs": [
    {
     "data": {
      "text/plain": [
       "torch.Size([2, 3, 8, 256, 256])"
      ]
     },
     "execution_count": 5,
     "metadata": {},
     "output_type": "execute_result"
    }
   ],
   "source": []
  }
 ],
 "metadata": {
  "kernelspec": {
   "display_name": "lumiere_torch_env",
   "language": "python",
   "name": "python3"
  },
  "language_info": {
   "codemirror_mode": {
    "name": "ipython",
    "version": 3
   },
   "file_extension": ".py",
   "mimetype": "text/x-python",
   "name": "python",
   "nbconvert_exporter": "python",
   "pygments_lexer": "ipython3",
   "version": "3.11.7"
  }
 },
 "nbformat": 4,
 "nbformat_minor": 2
}
